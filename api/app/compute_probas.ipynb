{
 "cells": [
  {
   "cell_type": "code",
   "execution_count": 1,
   "metadata": {},
   "outputs": [],
   "source": [
    "import pandas as pd"
   ]
  },
  {
   "cell_type": "code",
   "execution_count": 2,
   "metadata": {},
   "outputs": [],
   "source": [
    "from services.gambler_sev import GambleService\n",
    "from schemas import (\n",
    "    PredictInput\n",
    ")"
   ]
  },
  {
   "cell_type": "code",
   "execution_count": 3,
   "metadata": {},
   "outputs": [],
   "source": [
    "games = pd.read_csv('./input.csv')"
   ]
  },
  {
   "cell_type": "code",
   "execution_count": 4,
   "metadata": {},
   "outputs": [],
   "source": [
    "service = GambleService()"
   ]
  },
  {
   "cell_type": "code",
   "execution_count": 5,
   "metadata": {},
   "outputs": [],
   "source": [
    "home_proba = []\n",
    "away_proba = []\n",
    "\n",
    "for _, row in games.iterrows():\n",
    "    home_team = row['home_team'].capitalize()\n",
    "    away_team = row['away_team'].capitalize()\n",
    "\n",
    "    data = {\n",
    "        'matchup': {\n",
    "            'home_name': home_team,\n",
    "            'away_name': away_team\n",
    "        },\n",
    "        'date': '2024-01-30'\n",
    "    }\n",
    "\n",
    "    predict_input = PredictInput.model_validate(data)\n",
    "\n",
    "    output_data = service.predict(predict_input)\n",
    "    \n",
    "    home_proba.append(output_data['home_win_proba'])"
   ]
  },
  {
   "cell_type": "code",
   "execution_count": 6,
   "metadata": {},
   "outputs": [
    {
     "data": {
      "text/plain": [
       "[0.6250013820581374,\n",
       " 0.8478570837680061,\n",
       " 0.9166665085450582,\n",
       " 0.5832266287563709,\n",
       " 0.7414188264965721,\n",
       " 0.8452389569345232,\n",
       " 0.7904451314469129,\n",
       " 0.5668915187895612,\n",
       " 0.8736235432103269,\n",
       " 0.7866998697170069,\n",
       " 0.5416678158884358,\n",
       " 0.8263838072049804,\n",
       " 0.9583333333017391,\n",
       " 0.790284917711484]"
      ]
     },
     "execution_count": 6,
     "metadata": {},
     "output_type": "execute_result"
    }
   ],
   "source": [
    "home_proba"
   ]
  }
 ],
 "metadata": {
  "kernelspec": {
   "display_name": "machine_learning",
   "language": "python",
   "name": "python3"
  },
  "language_info": {
   "codemirror_mode": {
    "name": "ipython",
    "version": 3
   },
   "file_extension": ".py",
   "mimetype": "text/x-python",
   "name": "python",
   "nbconvert_exporter": "python",
   "pygments_lexer": "ipython3",
   "version": "3.8.16"
  }
 },
 "nbformat": 4,
 "nbformat_minor": 2
}
