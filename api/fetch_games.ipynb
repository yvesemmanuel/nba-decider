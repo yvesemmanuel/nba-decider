{
 "cells": [
  {
   "cell_type": "code",
   "execution_count": 1,
   "metadata": {},
   "outputs": [],
   "source": [
    "from nba_api.live.nba.endpoints import scoreboard"
   ]
  },
  {
   "cell_type": "code",
   "execution_count": 2,
   "metadata": {},
   "outputs": [],
   "source": [
    "games = scoreboard.ScoreBoard()"
   ]
  },
  {
   "cell_type": "code",
   "execution_count": 3,
   "metadata": {},
   "outputs": [
    {
     "data": {
      "text/plain": [
       "'{\"meta\": {\"version\": 1, \"request\": \"https://nba-prod-us-east-1-mediaops-stats.s3.amazonaws.com/NBA/liveData/scoreboard/todaysScoreboard_00.json\", \"time\": \"2023-10-27 10:22:41.2241\", \"code\": 200}, \"scoreboard\": {\"gameDate\": \"2023-10-26\", \"leagueId\": \"00\", \"leagueName\": \"National Basketball Association\", \"games\": [{\"gameId\": \"0022300075\", \"gameCode\": \"20231026/PHIMIL\", \"gameStatus\": 3, \"gameStatusText\": \"Final\", \"period\": 4, \"gameClock\": \"\", \"gameTimeUTC\": \"2023-10-26T23:30:00Z\", \"gameEt\": \"2023-10-26T19:30:00Z\", \"regulationPeriods\": 4, \"ifNecessary\": false, \"seriesGameNumber\": \"\", \"seriesText\": \"\", \"seriesConference\": \"\", \"poRoundDesc\": \"\", \"gameSubtype\": \"\", \"homeTeam\": {\"teamId\": 1610612749, \"teamName\": \"Bucks\", \"teamCity\": \"Milwaukee\", \"teamTricode\": \"MIL\", \"wins\": 1, \"losses\": 0, \"score\": 118, \"seed\": null, \"inBonus\": null, \"timeoutsRemaining\": 1, \"periods\": [{\"period\": 1, \"periodType\": \"REGULAR\", \"score\": 30}, {\"period\": 2, \"periodType\": \"REGULAR\", \"score\": 33}, {\"period\": 3, \"periodType\": \"REGULAR\", \"score\": 25}, {\"period\": 4, \"periodType\": \"REGULAR\", \"score\": 30}]}, \"awayTeam\": {\"teamId\": 1610612755, \"teamName\": \"76ers\", \"teamCity\": \"Philadelphia\", \"teamTricode\": \"PHI\", \"wins\": 0, \"losses\": 1, \"score\": 117, \"seed\": null, \"inBonus\": null, \"timeoutsRemaining\": 0, \"periods\": [{\"period\": 1, \"periodType\": \"REGULAR\", \"score\": 23}, {\"period\": 2, \"periodType\": \"REGULAR\", \"score\": 31}, {\"period\": 3, \"periodType\": \"REGULAR\", \"score\": 31}, {\"period\": 4, \"periodType\": \"REGULAR\", \"score\": 32}]}, \"gameLeaders\": {\"homeLeaders\": {\"personId\": 203081, \"name\": \"Damian Lillard\", \"jerseyNum\": \"0\", \"position\": \"G\", \"teamTricode\": \"MIL\", \"playerSlug\": null, \"points\": 39, \"rebounds\": 8, \"assists\": 4}, \"awayLeaders\": {\"personId\": 1630178, \"name\": \"Tyrese Maxey\", \"jerseyNum\": \"0\", \"position\": \"G\", \"teamTricode\": \"PHI\", \"playerSlug\": null, \"points\": 31, \"rebounds\": 4, \"assists\": 8}}, \"pbOdds\": {\"team\": null, \"odds\": 0.0, \"suspended\": 0}}, {\"gameId\": \"0022300076\", \"gameCode\": \"20231026/PHXLAL\", \"gameStatus\": 3, \"gameStatusText\": \"Final\", \"period\": 4, \"gameClock\": \"\", \"gameTimeUTC\": \"2023-10-27T02:00:00Z\", \"gameEt\": \"2023-10-26T22:00:00Z\", \"regulationPeriods\": 4, \"ifNecessary\": false, \"seriesGameNumber\": \"\", \"seriesText\": \"\", \"seriesConference\": \"\", \"poRoundDesc\": \"\", \"gameSubtype\": \"\", \"homeTeam\": {\"teamId\": 1610612747, \"teamName\": \"Lakers\", \"teamCity\": \"Los Angeles\", \"teamTricode\": \"LAL\", \"wins\": 1, \"losses\": 1, \"score\": 100, \"seed\": null, \"inBonus\": null, \"timeoutsRemaining\": 1, \"periods\": [{\"period\": 1, \"periodType\": \"REGULAR\", \"score\": 18}, {\"period\": 2, \"periodType\": \"REGULAR\", \"score\": 30}, {\"period\": 3, \"periodType\": \"REGULAR\", \"score\": 24}, {\"period\": 4, \"periodType\": \"REGULAR\", \"score\": 28}]}, \"awayTeam\": {\"teamId\": 1610612756, \"teamName\": \"Suns\", \"teamCity\": \"Phoenix\", \"teamTricode\": \"PHX\", \"wins\": 1, \"losses\": 1, \"score\": 95, \"seed\": null, \"inBonus\": null, \"timeoutsRemaining\": 0, \"periods\": [{\"period\": 1, \"periodType\": \"REGULAR\", \"score\": 30}, {\"period\": 2, \"periodType\": \"REGULAR\", \"score\": 22}, {\"period\": 3, \"periodType\": \"REGULAR\", \"score\": 32}, {\"period\": 4, \"periodType\": \"REGULAR\", \"score\": 11}]}, \"gameLeaders\": {\"homeLeaders\": {\"personId\": 203076, \"name\": \"Anthony Davis\", \"jerseyNum\": \"3\", \"position\": \"F-C\", \"teamTricode\": \"LAL\", \"playerSlug\": null, \"points\": 30, \"rebounds\": 12, \"assists\": 2}, \"awayLeaders\": {\"personId\": 201142, \"name\": \"Kevin Durant\", \"jerseyNum\": \"35\", \"position\": \"F\", \"teamTricode\": \"PHX\", \"playerSlug\": null, \"points\": 39, \"rebounds\": 11, \"assists\": 2}}, \"pbOdds\": {\"team\": null, \"odds\": 0.0, \"suspended\": 0}}]}}'"
      ]
     },
     "execution_count": 3,
     "metadata": {},
     "output_type": "execute_result"
    }
   ],
   "source": [
    "games.get_json()"
   ]
  },
  {
   "cell_type": "code",
   "execution_count": 4,
   "metadata": {},
   "outputs": [
    {
     "data": {
      "text/plain": [
       "{'meta': {'version': 1,\n",
       "  'request': 'https://nba-prod-us-east-1-mediaops-stats.s3.amazonaws.com/NBA/liveData/scoreboard/todaysScoreboard_00.json',\n",
       "  'time': '2023-10-27 10:22:41.2241',\n",
       "  'code': 200},\n",
       " 'scoreboard': {'gameDate': '2023-10-26',\n",
       "  'leagueId': '00',\n",
       "  'leagueName': 'National Basketball Association',\n",
       "  'games': [{'gameId': '0022300075',\n",
       "    'gameCode': '20231026/PHIMIL',\n",
       "    'gameStatus': 3,\n",
       "    'gameStatusText': 'Final',\n",
       "    'period': 4,\n",
       "    'gameClock': '',\n",
       "    'gameTimeUTC': '2023-10-26T23:30:00Z',\n",
       "    'gameEt': '2023-10-26T19:30:00Z',\n",
       "    'regulationPeriods': 4,\n",
       "    'ifNecessary': False,\n",
       "    'seriesGameNumber': '',\n",
       "    'seriesText': '',\n",
       "    'seriesConference': '',\n",
       "    'poRoundDesc': '',\n",
       "    'gameSubtype': '',\n",
       "    'homeTeam': {'teamId': 1610612749,\n",
       "     'teamName': 'Bucks',\n",
       "     'teamCity': 'Milwaukee',\n",
       "     'teamTricode': 'MIL',\n",
       "     'wins': 1,\n",
       "     'losses': 0,\n",
       "     'score': 118,\n",
       "     'seed': None,\n",
       "     'inBonus': None,\n",
       "     'timeoutsRemaining': 1,\n",
       "     'periods': [{'period': 1, 'periodType': 'REGULAR', 'score': 30},\n",
       "      {'period': 2, 'periodType': 'REGULAR', 'score': 33},\n",
       "      {'period': 3, 'periodType': 'REGULAR', 'score': 25},\n",
       "      {'period': 4, 'periodType': 'REGULAR', 'score': 30}]},\n",
       "    'awayTeam': {'teamId': 1610612755,\n",
       "     'teamName': '76ers',\n",
       "     'teamCity': 'Philadelphia',\n",
       "     'teamTricode': 'PHI',\n",
       "     'wins': 0,\n",
       "     'losses': 1,\n",
       "     'score': 117,\n",
       "     'seed': None,\n",
       "     'inBonus': None,\n",
       "     'timeoutsRemaining': 0,\n",
       "     'periods': [{'period': 1, 'periodType': 'REGULAR', 'score': 23},\n",
       "      {'period': 2, 'periodType': 'REGULAR', 'score': 31},\n",
       "      {'period': 3, 'periodType': 'REGULAR', 'score': 31},\n",
       "      {'period': 4, 'periodType': 'REGULAR', 'score': 32}]},\n",
       "    'gameLeaders': {'homeLeaders': {'personId': 203081,\n",
       "      'name': 'Damian Lillard',\n",
       "      'jerseyNum': '0',\n",
       "      'position': 'G',\n",
       "      'teamTricode': 'MIL',\n",
       "      'playerSlug': None,\n",
       "      'points': 39,\n",
       "      'rebounds': 8,\n",
       "      'assists': 4},\n",
       "     'awayLeaders': {'personId': 1630178,\n",
       "      'name': 'Tyrese Maxey',\n",
       "      'jerseyNum': '0',\n",
       "      'position': 'G',\n",
       "      'teamTricode': 'PHI',\n",
       "      'playerSlug': None,\n",
       "      'points': 31,\n",
       "      'rebounds': 4,\n",
       "      'assists': 8}},\n",
       "    'pbOdds': {'team': None, 'odds': 0.0, 'suspended': 0}},\n",
       "   {'gameId': '0022300076',\n",
       "    'gameCode': '20231026/PHXLAL',\n",
       "    'gameStatus': 3,\n",
       "    'gameStatusText': 'Final',\n",
       "    'period': 4,\n",
       "    'gameClock': '',\n",
       "    'gameTimeUTC': '2023-10-27T02:00:00Z',\n",
       "    'gameEt': '2023-10-26T22:00:00Z',\n",
       "    'regulationPeriods': 4,\n",
       "    'ifNecessary': False,\n",
       "    'seriesGameNumber': '',\n",
       "    'seriesText': '',\n",
       "    'seriesConference': '',\n",
       "    'poRoundDesc': '',\n",
       "    'gameSubtype': '',\n",
       "    'homeTeam': {'teamId': 1610612747,\n",
       "     'teamName': 'Lakers',\n",
       "     'teamCity': 'Los Angeles',\n",
       "     'teamTricode': 'LAL',\n",
       "     'wins': 1,\n",
       "     'losses': 1,\n",
       "     'score': 100,\n",
       "     'seed': None,\n",
       "     'inBonus': None,\n",
       "     'timeoutsRemaining': 1,\n",
       "     'periods': [{'period': 1, 'periodType': 'REGULAR', 'score': 18},\n",
       "      {'period': 2, 'periodType': 'REGULAR', 'score': 30},\n",
       "      {'period': 3, 'periodType': 'REGULAR', 'score': 24},\n",
       "      {'period': 4, 'periodType': 'REGULAR', 'score': 28}]},\n",
       "    'awayTeam': {'teamId': 1610612756,\n",
       "     'teamName': 'Suns',\n",
       "     'teamCity': 'Phoenix',\n",
       "     'teamTricode': 'PHX',\n",
       "     'wins': 1,\n",
       "     'losses': 1,\n",
       "     'score': 95,\n",
       "     'seed': None,\n",
       "     'inBonus': None,\n",
       "     'timeoutsRemaining': 0,\n",
       "     'periods': [{'period': 1, 'periodType': 'REGULAR', 'score': 30},\n",
       "      {'period': 2, 'periodType': 'REGULAR', 'score': 22},\n",
       "      {'period': 3, 'periodType': 'REGULAR', 'score': 32},\n",
       "      {'period': 4, 'periodType': 'REGULAR', 'score': 11}]},\n",
       "    'gameLeaders': {'homeLeaders': {'personId': 203076,\n",
       "      'name': 'Anthony Davis',\n",
       "      'jerseyNum': '3',\n",
       "      'position': 'F-C',\n",
       "      'teamTricode': 'LAL',\n",
       "      'playerSlug': None,\n",
       "      'points': 30,\n",
       "      'rebounds': 12,\n",
       "      'assists': 2},\n",
       "     'awayLeaders': {'personId': 201142,\n",
       "      'name': 'Kevin Durant',\n",
       "      'jerseyNum': '35',\n",
       "      'position': 'F',\n",
       "      'teamTricode': 'PHX',\n",
       "      'playerSlug': None,\n",
       "      'points': 39,\n",
       "      'rebounds': 11,\n",
       "      'assists': 2}},\n",
       "    'pbOdds': {'team': None, 'odds': 0.0, 'suspended': 0}}]}}"
      ]
     },
     "execution_count": 4,
     "metadata": {},
     "output_type": "execute_result"
    }
   ],
   "source": [
    "games.get_dict()"
   ]
  },
  {
   "cell_type": "code",
   "execution_count": null,
   "metadata": {},
   "outputs": [],
   "source": []
  }
 ],
 "metadata": {
  "kernelspec": {
   "display_name": "machine_learning",
   "language": "python",
   "name": "python3"
  },
  "language_info": {
   "codemirror_mode": {
    "name": "ipython",
    "version": 3
   },
   "file_extension": ".py",
   "mimetype": "text/x-python",
   "name": "python",
   "nbconvert_exporter": "python",
   "pygments_lexer": "ipython3",
   "version": "3.8.16"
  }
 },
 "nbformat": 4,
 "nbformat_minor": 2
}
