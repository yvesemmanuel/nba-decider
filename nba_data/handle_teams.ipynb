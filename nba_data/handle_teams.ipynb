{
 "cells": [
  {
   "cell_type": "code",
   "execution_count": 1,
   "metadata": {},
   "outputs": [],
   "source": [
    "import os\n",
    "import sys\n",
    "\n",
    "# Get the current directory of the notebook\n",
    "notebook_dir = os.path.dirname(os.path.abspath('__file__'))\n",
    "\n",
    "# Get the parent directory (one level up)\n",
    "parent_dir = os.path.dirname(notebook_dir)\n",
    "\n",
    "# Add the parent directory to the system path\n",
    "sys.path.append(parent_dir)\n",
    "from utils import get_categorical_columns, get_numeric_columns, get_matchups"
   ]
  },
  {
   "cell_type": "code",
   "execution_count": 2,
   "metadata": {},
   "outputs": [],
   "source": [
    "import pandas as pd\n",
    "pd.set_option('display.max_columns', 50)"
   ]
  },
  {
   "attachments": {},
   "cell_type": "markdown",
   "metadata": {},
   "source": [
    "### **Concatenating data**"
   ]
  },
  {
   "cell_type": "code",
   "execution_count": 3,
   "metadata": {},
   "outputs": [],
   "source": [
    "dir_path = './raw_data/teams'\n",
    "csv_files = [f for f in os.listdir(dir_path) if f.endswith('.csv')]"
   ]
  },
  {
   "cell_type": "code",
   "execution_count": 4,
   "metadata": {},
   "outputs": [],
   "source": [
    "dfs = []\n",
    "for csv_file in csv_files:\n",
    "    csv_path = os.path.join(dir_path, csv_file)\n",
    "    df = pd.read_csv(csv_path)\n",
    "    dfs.append(df)\n",
    "\n",
    "df_raw = pd.concat(dfs, ignore_index=True)"
   ]
  },
  {
   "attachments": {},
   "cell_type": "markdown",
   "metadata": {},
   "source": [
    "### **Data transformation**"
   ]
  },
  {
   "attachments": {},
   "cell_type": "markdown",
   "metadata": {},
   "source": [
    "#### Building matchups"
   ]
  },
  {
   "cell_type": "code",
   "execution_count": 5,
   "metadata": {},
   "outputs": [],
   "source": [
    "cat_cols = get_categorical_columns(df_raw)\n",
    "num_cols = get_numeric_columns(df_raw)"
   ]
  },
  {
   "cell_type": "code",
   "execution_count": 6,
   "metadata": {},
   "outputs": [],
   "source": [
    "unuseful_num_cols = ['GP', 'TEAM_ID', 'W_PCT', 'GP_RANK', 'W_RANK', 'L_RANK', 'W_PCT_RANK', 'MIN_RANK', 'OFF_RATING_RANK', 'DEF_RATING_RANK', 'NET_RATING_RANK', 'AST_PCT_RANK', 'AST_TO_RANK', 'AST_RATIO_RANK', 'OREB_PCT_RANK', 'DREB_PCT_RANK', 'REB_PCT_RANK', 'TM_TOV_PCT_RANK', 'EFG_PCT_RANK', 'TS_PCT_RANK', 'PACE_RANK', 'PIE_RANK']\n",
    "unuseful_cat_cols = []\n",
    "\n",
    "\n",
    "unuseful_cols = unuseful_num_cols + unuseful_cat_cols"
   ]
  },
  {
   "cell_type": "code",
   "execution_count": 7,
   "metadata": {},
   "outputs": [
    {
     "data": {
      "text/plain": [
       "Index(['TEAM_ID', 'TEAM_NAME', 'GP', 'W', 'L', 'W_PCT', 'MIN', 'E_OFF_RATING',\n",
       "       'OFF_RATING', 'E_DEF_RATING', 'DEF_RATING', 'E_NET_RATING',\n",
       "       'NET_RATING', 'AST_PCT', 'AST_TO', 'AST_RATIO', 'OREB_PCT', 'DREB_PCT',\n",
       "       'REB_PCT', 'TM_TOV_PCT', 'EFG_PCT', 'TS_PCT', 'E_PACE', 'PACE',\n",
       "       'PACE_PER40', 'POSS', 'PIE', 'GP_RANK', 'W_RANK', 'L_RANK',\n",
       "       'W_PCT_RANK', 'MIN_RANK', 'OFF_RATING_RANK', 'DEF_RATING_RANK',\n",
       "       'NET_RATING_RANK', 'AST_PCT_RANK', 'AST_TO_RANK', 'AST_RATIO_RANK',\n",
       "       'OREB_PCT_RANK', 'DREB_PCT_RANK', 'REB_PCT_RANK', 'TM_TOV_PCT_RANK',\n",
       "       'EFG_PCT_RANK', 'TS_PCT_RANK', 'PACE_RANK', 'PIE_RANK'],\n",
       "      dtype='object')"
      ]
     },
     "execution_count": 7,
     "metadata": {},
     "output_type": "execute_result"
    }
   ],
   "source": [
    "df_raw.columns"
   ]
  },
  {
   "cell_type": "code",
   "execution_count": 8,
   "metadata": {},
   "outputs": [],
   "source": [
    "df_cleaned = df_raw.drop(columns=unuseful_cols)"
   ]
  },
  {
   "cell_type": "code",
   "execution_count": 9,
   "metadata": {},
   "outputs": [
    {
     "data": {
      "text/html": [
       "<div>\n",
       "<style scoped>\n",
       "    .dataframe tbody tr th:only-of-type {\n",
       "        vertical-align: middle;\n",
       "    }\n",
       "\n",
       "    .dataframe tbody tr th {\n",
       "        vertical-align: top;\n",
       "    }\n",
       "\n",
       "    .dataframe thead th {\n",
       "        text-align: right;\n",
       "    }\n",
       "</style>\n",
       "<table border=\"1\" class=\"dataframe\">\n",
       "  <thead>\n",
       "    <tr style=\"text-align: right;\">\n",
       "      <th></th>\n",
       "      <th>TEAM_NAME</th>\n",
       "      <th>W</th>\n",
       "      <th>L</th>\n",
       "      <th>MIN</th>\n",
       "      <th>E_OFF_RATING</th>\n",
       "      <th>OFF_RATING</th>\n",
       "      <th>E_DEF_RATING</th>\n",
       "      <th>DEF_RATING</th>\n",
       "      <th>E_NET_RATING</th>\n",
       "      <th>NET_RATING</th>\n",
       "      <th>AST_PCT</th>\n",
       "      <th>AST_TO</th>\n",
       "      <th>AST_RATIO</th>\n",
       "      <th>OREB_PCT</th>\n",
       "      <th>DREB_PCT</th>\n",
       "      <th>REB_PCT</th>\n",
       "      <th>TM_TOV_PCT</th>\n",
       "      <th>EFG_PCT</th>\n",
       "      <th>TS_PCT</th>\n",
       "      <th>E_PACE</th>\n",
       "      <th>PACE</th>\n",
       "      <th>PACE_PER40</th>\n",
       "      <th>POSS</th>\n",
       "      <th>PIE</th>\n",
       "    </tr>\n",
       "  </thead>\n",
       "  <tbody>\n",
       "    <tr>\n",
       "      <th>0</th>\n",
       "      <td>Atlanta Hawks</td>\n",
       "      <td>38</td>\n",
       "      <td>44</td>\n",
       "      <td>3966.0</td>\n",
       "      <td>103.4</td>\n",
       "      <td>104.9</td>\n",
       "      <td>104.1</td>\n",
       "      <td>105.7</td>\n",
       "      <td>-0.7</td>\n",
       "      <td>-0.7</td>\n",
       "      <td>0.667</td>\n",
       "      <td>1.63</td>\n",
       "      <td>18.8</td>\n",
       "      <td>0.256</td>\n",
       "      <td>0.711</td>\n",
       "      <td>0.485</td>\n",
       "      <td>0.159</td>\n",
       "      <td>0.515</td>\n",
       "      <td>0.554</td>\n",
       "      <td>96.9</td>\n",
       "      <td>95.41</td>\n",
       "      <td>79.51</td>\n",
       "      <td>7892</td>\n",
       "      <td>0.502</td>\n",
       "    </tr>\n",
       "    <tr>\n",
       "      <th>1</th>\n",
       "      <td>Boston Celtics</td>\n",
       "      <td>25</td>\n",
       "      <td>57</td>\n",
       "      <td>3946.0</td>\n",
       "      <td>99.7</td>\n",
       "      <td>101.9</td>\n",
       "      <td>105.2</td>\n",
       "      <td>106.5</td>\n",
       "      <td>-5.5</td>\n",
       "      <td>-4.6</td>\n",
       "      <td>0.576</td>\n",
       "      <td>1.37</td>\n",
       "      <td>16.2</td>\n",
       "      <td>0.314</td>\n",
       "      <td>0.708</td>\n",
       "      <td>0.505</td>\n",
       "      <td>0.163</td>\n",
       "      <td>0.477</td>\n",
       "      <td>0.517</td>\n",
       "      <td>95.9</td>\n",
       "      <td>94.28</td>\n",
       "      <td>78.57</td>\n",
       "      <td>7745</td>\n",
       "      <td>0.461</td>\n",
       "    </tr>\n",
       "    <tr>\n",
       "      <th>2</th>\n",
       "      <td>Brooklyn Nets</td>\n",
       "      <td>44</td>\n",
       "      <td>38</td>\n",
       "      <td>3976.0</td>\n",
       "      <td>104.4</td>\n",
       "      <td>105.4</td>\n",
       "      <td>104.9</td>\n",
       "      <td>106.7</td>\n",
       "      <td>-0.6</td>\n",
       "      <td>-1.3</td>\n",
       "      <td>0.585</td>\n",
       "      <td>1.44</td>\n",
       "      <td>16.7</td>\n",
       "      <td>0.260</td>\n",
       "      <td>0.686</td>\n",
       "      <td>0.475</td>\n",
       "      <td>0.155</td>\n",
       "      <td>0.514</td>\n",
       "      <td>0.555</td>\n",
       "      <td>93.7</td>\n",
       "      <td>92.42</td>\n",
       "      <td>77.02</td>\n",
       "      <td>7663</td>\n",
       "      <td>0.492</td>\n",
       "    </tr>\n",
       "    <tr>\n",
       "      <th>3</th>\n",
       "      <td>Charlotte Bobcats</td>\n",
       "      <td>43</td>\n",
       "      <td>39</td>\n",
       "      <td>3981.0</td>\n",
       "      <td>101.2</td>\n",
       "      <td>103.0</td>\n",
       "      <td>101.2</td>\n",
       "      <td>103.3</td>\n",
       "      <td>0.1</td>\n",
       "      <td>-0.4</td>\n",
       "      <td>0.597</td>\n",
       "      <td>1.76</td>\n",
       "      <td>16.9</td>\n",
       "      <td>0.269</td>\n",
       "      <td>0.730</td>\n",
       "      <td>0.500</td>\n",
       "      <td>0.131</td>\n",
       "      <td>0.481</td>\n",
       "      <td>0.522</td>\n",
       "      <td>94.7</td>\n",
       "      <td>92.93</td>\n",
       "      <td>77.44</td>\n",
       "      <td>7712</td>\n",
       "      <td>0.508</td>\n",
       "    </tr>\n",
       "    <tr>\n",
       "      <th>4</th>\n",
       "      <td>Chicago Bulls</td>\n",
       "      <td>48</td>\n",
       "      <td>34</td>\n",
       "      <td>3986.0</td>\n",
       "      <td>99.7</td>\n",
       "      <td>101.7</td>\n",
       "      <td>97.8</td>\n",
       "      <td>99.9</td>\n",
       "      <td>1.9</td>\n",
       "      <td>1.9</td>\n",
       "      <td>0.654</td>\n",
       "      <td>1.52</td>\n",
       "      <td>17.6</td>\n",
       "      <td>0.321</td>\n",
       "      <td>0.713</td>\n",
       "      <td>0.518</td>\n",
       "      <td>0.162</td>\n",
       "      <td>0.471</td>\n",
       "      <td>0.518</td>\n",
       "      <td>92.7</td>\n",
       "      <td>90.84</td>\n",
       "      <td>75.70</td>\n",
       "      <td>7549</td>\n",
       "      <td>0.528</td>\n",
       "    </tr>\n",
       "  </tbody>\n",
       "</table>\n",
       "</div>"
      ],
      "text/plain": [
       "           TEAM_NAME   W   L     MIN  E_OFF_RATING  OFF_RATING  E_DEF_RATING  \\\n",
       "0      Atlanta Hawks  38  44  3966.0         103.4       104.9         104.1   \n",
       "1     Boston Celtics  25  57  3946.0          99.7       101.9         105.2   \n",
       "2      Brooklyn Nets  44  38  3976.0         104.4       105.4         104.9   \n",
       "3  Charlotte Bobcats  43  39  3981.0         101.2       103.0         101.2   \n",
       "4      Chicago Bulls  48  34  3986.0          99.7       101.7          97.8   \n",
       "\n",
       "   DEF_RATING  E_NET_RATING  NET_RATING  AST_PCT  AST_TO  AST_RATIO  OREB_PCT  \\\n",
       "0       105.7          -0.7        -0.7    0.667    1.63       18.8     0.256   \n",
       "1       106.5          -5.5        -4.6    0.576    1.37       16.2     0.314   \n",
       "2       106.7          -0.6        -1.3    0.585    1.44       16.7     0.260   \n",
       "3       103.3           0.1        -0.4    0.597    1.76       16.9     0.269   \n",
       "4        99.9           1.9         1.9    0.654    1.52       17.6     0.321   \n",
       "\n",
       "   DREB_PCT  REB_PCT  TM_TOV_PCT  EFG_PCT  TS_PCT  E_PACE   PACE  PACE_PER40  \\\n",
       "0     0.711    0.485       0.159    0.515   0.554    96.9  95.41       79.51   \n",
       "1     0.708    0.505       0.163    0.477   0.517    95.9  94.28       78.57   \n",
       "2     0.686    0.475       0.155    0.514   0.555    93.7  92.42       77.02   \n",
       "3     0.730    0.500       0.131    0.481   0.522    94.7  92.93       77.44   \n",
       "4     0.713    0.518       0.162    0.471   0.518    92.7  90.84       75.70   \n",
       "\n",
       "   POSS    PIE  \n",
       "0  7892  0.502  \n",
       "1  7745  0.461  \n",
       "2  7663  0.492  \n",
       "3  7712  0.508  \n",
       "4  7549  0.528  "
      ]
     },
     "execution_count": 9,
     "metadata": {},
     "output_type": "execute_result"
    }
   ],
   "source": [
    "df_cleaned.head()"
   ]
  },
  {
   "cell_type": "code",
   "execution_count": 10,
   "metadata": {},
   "outputs": [],
   "source": [
    "df_cleaned.to_csv('./data/teams.csv', index=False)"
   ]
  }
 ],
 "metadata": {
  "kernelspec": {
   "display_name": "machine_learning",
   "language": "python",
   "name": "python3"
  },
  "language_info": {
   "codemirror_mode": {
    "name": "ipython",
    "version": 3
   },
   "file_extension": ".py",
   "mimetype": "text/x-python",
   "name": "python",
   "nbconvert_exporter": "python",
   "pygments_lexer": "ipython3",
   "version": "3.8.16"
  },
  "orig_nbformat": 4
 },
 "nbformat": 4,
 "nbformat_minor": 2
}
