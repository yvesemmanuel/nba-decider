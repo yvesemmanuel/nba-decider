{
 "cells": [
  {
   "cell_type": "code",
   "execution_count": 1,
   "metadata": {},
   "outputs": [],
   "source": [
    "import os\n",
    "import sys\n",
    "\n",
    "# Get the current directory of the notebook\n",
    "notebook_dir = os.path.dirname(os.path.abspath('__file__'))\n",
    "\n",
    "# Get the parent directory (one level up)\n",
    "parent_dir = os.path.dirname(notebook_dir)\n",
    "\n",
    "# Add the parent directory to the system path\n",
    "sys.path.append(parent_dir)\n",
    "from utils import get_categorical_columns, get_numeric_columns, get_matchups"
   ]
  },
  {
   "cell_type": "code",
   "execution_count": 2,
   "metadata": {},
   "outputs": [],
   "source": [
    "import pandas as pd\n",
    "pd.set_option('display.max_columns', 50)"
   ]
  },
  {
   "attachments": {},
   "cell_type": "markdown",
   "metadata": {},
   "source": [
    "### **Concatenating data**"
   ]
  },
  {
   "cell_type": "code",
   "execution_count": 3,
   "metadata": {},
   "outputs": [],
   "source": [
    "dir_path = './raw_data/players'\n",
    "csv_files = [f for f in os.listdir(dir_path) if f.endswith('.csv')]"
   ]
  },
  {
   "cell_type": "code",
   "execution_count": 4,
   "metadata": {},
   "outputs": [],
   "source": [
    "dfs = []\n",
    "for csv_file in csv_files:\n",
    "    csv_path = os.path.join(dir_path, csv_file)\n",
    "    df = pd.read_csv(csv_path)\n",
    "    dfs.append(df)\n",
    "\n",
    "df_raw = pd.concat(dfs, ignore_index=True)"
   ]
  },
  {
   "attachments": {},
   "cell_type": "markdown",
   "metadata": {},
   "source": [
    "### **Data transformation**"
   ]
  },
  {
   "attachments": {},
   "cell_type": "markdown",
   "metadata": {},
   "source": [
    "#### Building matchups"
   ]
  },
  {
   "cell_type": "code",
   "execution_count": 5,
   "metadata": {},
   "outputs": [],
   "source": [
    "home_teams, away_teams = get_matchups(df_raw)\n",
    "\n",
    "df_raw['HOME_TEAM'] = home_teams\n",
    "df_raw['AWAY_TEAM'] = away_teams"
   ]
  },
  {
   "cell_type": "code",
   "execution_count": 6,
   "metadata": {},
   "outputs": [],
   "source": [
    "team_names_dict = {abbrev: full_name for abbrev, full_name in zip(df_raw['TEAM_ABBREVIATION'], df_raw['TEAM_NAME'])}\n",
    "\n",
    "df_raw['HOME_TEAM'].replace(team_names_dict, inplace=True)\n",
    "df_raw['AWAY_TEAM'].replace(team_names_dict, inplace=True)"
   ]
  },
  {
   "attachments": {},
   "cell_type": "markdown",
   "metadata": {},
   "source": [
    "#### Features selection"
   ]
  },
  {
   "cell_type": "code",
   "execution_count": 7,
   "metadata": {},
   "outputs": [
    {
     "data": {
      "text/plain": [
       "['SEASON_YEAR',\n",
       " 'PLAYER_NAME',\n",
       " 'NICKNAME',\n",
       " 'TEAM_ABBREVIATION',\n",
       " 'TEAM_NAME',\n",
       " 'GAME_DATE',\n",
       " 'MATCHUP',\n",
       " 'WL',\n",
       " 'HOME_TEAM',\n",
       " 'AWAY_TEAM']"
      ]
     },
     "execution_count": 7,
     "metadata": {},
     "output_type": "execute_result"
    }
   ],
   "source": [
    "get_categorical_columns(df_raw)"
   ]
  },
  {
   "cell_type": "code",
   "execution_count": 8,
   "metadata": {},
   "outputs": [
    {
     "data": {
      "text/plain": [
       "['PLAYER_ID',\n",
       " 'TEAM_ID',\n",
       " 'GAME_ID',\n",
       " 'MIN',\n",
       " 'FGM',\n",
       " 'FGA',\n",
       " 'FG_PCT',\n",
       " 'FG3M',\n",
       " 'FG3A',\n",
       " 'FG3_PCT',\n",
       " 'FTM',\n",
       " 'FTA',\n",
       " 'FT_PCT',\n",
       " 'OREB',\n",
       " 'DREB',\n",
       " 'REB',\n",
       " 'AST',\n",
       " 'TOV',\n",
       " 'STL',\n",
       " 'BLK',\n",
       " 'BLKA',\n",
       " 'PF',\n",
       " 'PFD',\n",
       " 'PTS',\n",
       " 'PLUS_MINUS',\n",
       " 'NBA_FANTASY_PTS',\n",
       " 'DD2',\n",
       " 'TD3',\n",
       " 'WNBA_FANTASY_PTS',\n",
       " 'GP_RANK',\n",
       " 'W_RANK',\n",
       " 'L_RANK',\n",
       " 'W_PCT_RANK',\n",
       " 'MIN_RANK',\n",
       " 'FGM_RANK',\n",
       " 'FGA_RANK',\n",
       " 'FG_PCT_RANK',\n",
       " 'FG3M_RANK',\n",
       " 'FG3A_RANK',\n",
       " 'FG3_PCT_RANK',\n",
       " 'FTM_RANK',\n",
       " 'FTA_RANK',\n",
       " 'FT_PCT_RANK',\n",
       " 'OREB_RANK',\n",
       " 'DREB_RANK',\n",
       " 'REB_RANK',\n",
       " 'AST_RANK',\n",
       " 'TOV_RANK',\n",
       " 'STL_RANK',\n",
       " 'BLK_RANK',\n",
       " 'BLKA_RANK',\n",
       " 'PF_RANK',\n",
       " 'PFD_RANK',\n",
       " 'PTS_RANK',\n",
       " 'PLUS_MINUS_RANK',\n",
       " 'NBA_FANTASY_PTS_RANK',\n",
       " 'DD2_RANK',\n",
       " 'TD3_RANK',\n",
       " 'WNBA_FANTASY_PTS_RANK',\n",
       " 'VIDEO_AVAILABLE_FLAG']"
      ]
     },
     "execution_count": 8,
     "metadata": {},
     "output_type": "execute_result"
    }
   ],
   "source": [
    "get_numeric_columns(df_raw)"
   ]
  },
  {
   "cell_type": "code",
   "execution_count": 9,
   "metadata": {},
   "outputs": [],
   "source": [
    "unuseful_num_cols = ['PLAYER_ID', 'TEAM_ID', 'GAME_ID', 'FG_PCT', 'FG3_PCT', 'FT_PCT', 'NBA_FANTASY_PTS', 'DD2', 'TD3', 'WNBA_FANTASY_PTS', 'GP_RANK', 'W_RANK', 'L_RANK', 'W_PCT_RANK', 'MIN_RANK', 'FGM_RANK', 'FGA_RANK', 'FG_PCT_RANK', 'FG3M_RANK', 'FG3A_RANK', 'FG3_PCT_RANK', 'FTM_RANK', 'FTA_RANK', 'FT_PCT_RANK', 'OREB_RANK', 'DREB_RANK', 'REB_RANK', 'AST_RANK', 'TOV_RANK', 'STL_RANK', 'BLK_RANK', 'BLKA_RANK', 'PF_RANK', 'PFD_RANK', 'PTS_RANK', 'PLUS_MINUS_RANK', 'NBA_FANTASY_PTS_RANK', 'DD2_RANK', 'TD3_RANK', 'WNBA_FANTASY_PTS_RANK', 'VIDEO_AVAILABLE_FLAG']\n",
    "unuseful_cat_cols = ['SEASON_YEAR', 'NICKNAME', 'TEAM_ABBREVIATION', 'MATCHUP', 'WL']\n",
    "\n",
    "unuseful_cols = unuseful_num_cols + unuseful_cat_cols"
   ]
  },
  {
   "attachments": {},
   "cell_type": "markdown",
   "metadata": {},
   "source": [
    "### **Data analysis**"
   ]
  },
  {
   "cell_type": "code",
   "execution_count": 10,
   "metadata": {},
   "outputs": [],
   "source": [
    "df_cleaned = df_raw.drop(columns=unuseful_cols)"
   ]
  },
  {
   "cell_type": "code",
   "execution_count": 11,
   "metadata": {},
   "outputs": [
    {
     "data": {
      "text/html": [
       "<div>\n",
       "<style scoped>\n",
       "    .dataframe tbody tr th:only-of-type {\n",
       "        vertical-align: middle;\n",
       "    }\n",
       "\n",
       "    .dataframe tbody tr th {\n",
       "        vertical-align: top;\n",
       "    }\n",
       "\n",
       "    .dataframe thead th {\n",
       "        text-align: right;\n",
       "    }\n",
       "</style>\n",
       "<table border=\"1\" class=\"dataframe\">\n",
       "  <thead>\n",
       "    <tr style=\"text-align: right;\">\n",
       "      <th></th>\n",
       "      <th>PLAYER_NAME</th>\n",
       "      <th>TEAM_NAME</th>\n",
       "      <th>GAME_DATE</th>\n",
       "      <th>MIN</th>\n",
       "      <th>FGM</th>\n",
       "      <th>FGA</th>\n",
       "      <th>FG3M</th>\n",
       "      <th>FG3A</th>\n",
       "      <th>FTM</th>\n",
       "      <th>FTA</th>\n",
       "      <th>OREB</th>\n",
       "      <th>DREB</th>\n",
       "      <th>REB</th>\n",
       "      <th>AST</th>\n",
       "      <th>TOV</th>\n",
       "      <th>STL</th>\n",
       "      <th>BLK</th>\n",
       "      <th>BLKA</th>\n",
       "      <th>PF</th>\n",
       "      <th>PFD</th>\n",
       "      <th>PTS</th>\n",
       "      <th>PLUS_MINUS</th>\n",
       "      <th>HOME_TEAM</th>\n",
       "      <th>AWAY_TEAM</th>\n",
       "    </tr>\n",
       "  </thead>\n",
       "  <tbody>\n",
       "    <tr>\n",
       "      <th>0</th>\n",
       "      <td>Steven Adams</td>\n",
       "      <td>Oklahoma City Thunder</td>\n",
       "      <td>2014-04-16T00:00:00</td>\n",
       "      <td>10.7</td>\n",
       "      <td>0.0</td>\n",
       "      <td>1.0</td>\n",
       "      <td>0.0</td>\n",
       "      <td>0.0</td>\n",
       "      <td>1.0</td>\n",
       "      <td>2.0</td>\n",
       "      <td>2.0</td>\n",
       "      <td>0.0</td>\n",
       "      <td>2.0</td>\n",
       "      <td>0.0</td>\n",
       "      <td>0.0</td>\n",
       "      <td>0.0</td>\n",
       "      <td>0.0</td>\n",
       "      <td>0.0</td>\n",
       "      <td>0.0</td>\n",
       "      <td>1.0</td>\n",
       "      <td>1.0</td>\n",
       "      <td>-7.0</td>\n",
       "      <td>Oklahoma City Thunder</td>\n",
       "      <td>Detroit Pistons</td>\n",
       "    </tr>\n",
       "    <tr>\n",
       "      <th>1</th>\n",
       "      <td>Steven Adams</td>\n",
       "      <td>Oklahoma City Thunder</td>\n",
       "      <td>2014-04-14T00:00:00</td>\n",
       "      <td>1.8</td>\n",
       "      <td>0.0</td>\n",
       "      <td>0.0</td>\n",
       "      <td>0.0</td>\n",
       "      <td>0.0</td>\n",
       "      <td>0.0</td>\n",
       "      <td>0.0</td>\n",
       "      <td>0.0</td>\n",
       "      <td>0.0</td>\n",
       "      <td>0.0</td>\n",
       "      <td>0.0</td>\n",
       "      <td>0.0</td>\n",
       "      <td>0.0</td>\n",
       "      <td>0.0</td>\n",
       "      <td>0.0</td>\n",
       "      <td>1.0</td>\n",
       "      <td>0.0</td>\n",
       "      <td>0.0</td>\n",
       "      <td>0.0</td>\n",
       "      <td>New Orleans Pelicans</td>\n",
       "      <td>Oklahoma City Thunder</td>\n",
       "    </tr>\n",
       "    <tr>\n",
       "      <th>2</th>\n",
       "      <td>Steven Adams</td>\n",
       "      <td>Oklahoma City Thunder</td>\n",
       "      <td>2014-04-13T00:00:00</td>\n",
       "      <td>13.1</td>\n",
       "      <td>2.0</td>\n",
       "      <td>3.0</td>\n",
       "      <td>0.0</td>\n",
       "      <td>0.0</td>\n",
       "      <td>0.0</td>\n",
       "      <td>0.0</td>\n",
       "      <td>0.0</td>\n",
       "      <td>1.0</td>\n",
       "      <td>1.0</td>\n",
       "      <td>0.0</td>\n",
       "      <td>0.0</td>\n",
       "      <td>2.0</td>\n",
       "      <td>0.0</td>\n",
       "      <td>0.0</td>\n",
       "      <td>3.0</td>\n",
       "      <td>1.0</td>\n",
       "      <td>4.0</td>\n",
       "      <td>-5.0</td>\n",
       "      <td>Indiana Pacers</td>\n",
       "      <td>Oklahoma City Thunder</td>\n",
       "    </tr>\n",
       "    <tr>\n",
       "      <th>3</th>\n",
       "      <td>Steven Adams</td>\n",
       "      <td>Oklahoma City Thunder</td>\n",
       "      <td>2014-04-11T00:00:00</td>\n",
       "      <td>10.1</td>\n",
       "      <td>2.0</td>\n",
       "      <td>2.0</td>\n",
       "      <td>0.0</td>\n",
       "      <td>0.0</td>\n",
       "      <td>0.0</td>\n",
       "      <td>1.0</td>\n",
       "      <td>0.0</td>\n",
       "      <td>1.0</td>\n",
       "      <td>1.0</td>\n",
       "      <td>0.0</td>\n",
       "      <td>0.0</td>\n",
       "      <td>0.0</td>\n",
       "      <td>0.0</td>\n",
       "      <td>0.0</td>\n",
       "      <td>1.0</td>\n",
       "      <td>1.0</td>\n",
       "      <td>4.0</td>\n",
       "      <td>-3.0</td>\n",
       "      <td>Oklahoma City Thunder</td>\n",
       "      <td>New Orleans Pelicans</td>\n",
       "    </tr>\n",
       "    <tr>\n",
       "      <th>4</th>\n",
       "      <td>Steven Adams</td>\n",
       "      <td>Oklahoma City Thunder</td>\n",
       "      <td>2014-04-09T00:00:00</td>\n",
       "      <td>19.6</td>\n",
       "      <td>2.0</td>\n",
       "      <td>2.0</td>\n",
       "      <td>0.0</td>\n",
       "      <td>0.0</td>\n",
       "      <td>3.0</td>\n",
       "      <td>5.0</td>\n",
       "      <td>2.0</td>\n",
       "      <td>5.0</td>\n",
       "      <td>7.0</td>\n",
       "      <td>0.0</td>\n",
       "      <td>0.0</td>\n",
       "      <td>1.0</td>\n",
       "      <td>1.0</td>\n",
       "      <td>0.0</td>\n",
       "      <td>3.0</td>\n",
       "      <td>3.0</td>\n",
       "      <td>7.0</td>\n",
       "      <td>5.0</td>\n",
       "      <td>LA Clippers</td>\n",
       "      <td>Oklahoma City Thunder</td>\n",
       "    </tr>\n",
       "  </tbody>\n",
       "</table>\n",
       "</div>"
      ],
      "text/plain": [
       "    PLAYER_NAME              TEAM_NAME            GAME_DATE   MIN  FGM  FGA  \\\n",
       "0  Steven Adams  Oklahoma City Thunder  2014-04-16T00:00:00  10.7  0.0  1.0   \n",
       "1  Steven Adams  Oklahoma City Thunder  2014-04-14T00:00:00   1.8  0.0  0.0   \n",
       "2  Steven Adams  Oklahoma City Thunder  2014-04-13T00:00:00  13.1  2.0  3.0   \n",
       "3  Steven Adams  Oklahoma City Thunder  2014-04-11T00:00:00  10.1  2.0  2.0   \n",
       "4  Steven Adams  Oklahoma City Thunder  2014-04-09T00:00:00  19.6  2.0  2.0   \n",
       "\n",
       "   FG3M  FG3A  FTM  FTA  OREB  DREB  REB  AST  TOV  STL  BLK  BLKA   PF  PFD  \\\n",
       "0   0.0   0.0  1.0  2.0   2.0   0.0  2.0  0.0  0.0  0.0  0.0   0.0  0.0  1.0   \n",
       "1   0.0   0.0  0.0  0.0   0.0   0.0  0.0  0.0  0.0  0.0  0.0   0.0  1.0  0.0   \n",
       "2   0.0   0.0  0.0  0.0   0.0   1.0  1.0  0.0  0.0  2.0  0.0   0.0  3.0  1.0   \n",
       "3   0.0   0.0  0.0  1.0   0.0   1.0  1.0  0.0  0.0  0.0  0.0   0.0  1.0  1.0   \n",
       "4   0.0   0.0  3.0  5.0   2.0   5.0  7.0  0.0  0.0  1.0  1.0   0.0  3.0  3.0   \n",
       "\n",
       "   PTS  PLUS_MINUS              HOME_TEAM              AWAY_TEAM  \n",
       "0  1.0        -7.0  Oklahoma City Thunder        Detroit Pistons  \n",
       "1  0.0         0.0   New Orleans Pelicans  Oklahoma City Thunder  \n",
       "2  4.0        -5.0         Indiana Pacers  Oklahoma City Thunder  \n",
       "3  4.0        -3.0  Oklahoma City Thunder   New Orleans Pelicans  \n",
       "4  7.0         5.0            LA Clippers  Oklahoma City Thunder  "
      ]
     },
     "execution_count": 11,
     "metadata": {},
     "output_type": "execute_result"
    }
   ],
   "source": [
    "df_cleaned.head()"
   ]
  },
  {
   "cell_type": "code",
   "execution_count": 12,
   "metadata": {},
   "outputs": [],
   "source": [
    "df_cleaned.to_csv('./data/players.csv', index=False)"
   ]
  }
 ],
 "metadata": {
  "kernelspec": {
   "display_name": "machine_learning",
   "language": "python",
   "name": "python3"
  },
  "language_info": {
   "codemirror_mode": {
    "name": "ipython",
    "version": 3
   },
   "file_extension": ".py",
   "mimetype": "text/x-python",
   "name": "python",
   "nbconvert_exporter": "python",
   "pygments_lexer": "ipython3",
   "version": "3.8.16"
  },
  "orig_nbformat": 4
 },
 "nbformat": 4,
 "nbformat_minor": 2
}
